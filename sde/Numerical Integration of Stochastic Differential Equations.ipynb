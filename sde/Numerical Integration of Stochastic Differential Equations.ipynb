{
 "cells": [
  {
   "cell_type": "markdown",
   "metadata": {},
   "source": [
    "A tutorial based on [An Algorithmic Introduction to Numerical Simulation of Stochastic Differential Equations][1] by Desmond J. Higham.\n",
    "\n",
    "[1]: https://doi.org/10.1137/S0036144500378302"
   ]
  },
  {
   "cell_type": "code",
   "execution_count": null,
   "metadata": {
    "collapsed": true
   },
   "outputs": [],
   "source": [
    "%matplotlib notebook\n",
    "\n",
    "import numpy as np\n",
    "import numpy.random as random\n",
    "import matplotlib.pyplot as plt\n",
    "\n",
    "import sde\n",
    "random.seed(0)"
   ]
  },
  {
   "cell_type": "markdown",
   "metadata": {},
   "source": [
    "# Brownian Motion\n",
    "\n",
    "Definition of Brownian motion:\n",
    "\n",
    "1.  $W(0) = 0 \\quad .$\n",
    "2.  $W(t) - W(s) \\sim \\mathcal{N}(0, \\sqrt{t-s} \\quad , \\quad 0 \\leq s < t \\leq T \\quad .$\n",
    "3.  $W(t) - W(s)$ and $W(v) - W(u)$, $0 \\leq s < t < u < v \\leq T$, are independent.\n",
    "\n",
    "Example:"
   ]
  },
  {
   "cell_type": "code",
   "execution_count": null,
   "metadata": {
    "collapsed": true
   },
   "outputs": [],
   "source": [
    "T = 1.\n",
    "N = 500\n",
    "t = np.linspace(0., 1., N + 1)\n",
    "\n",
    "N_ens = 100\n",
    "W_ens, dW_ens = sde.brown(T, N, N_ens)\n",
    "\n",
    "fig = plt.figure(1)\n",
    "ax = fig.gca()\n",
    "ax.set_xlabel(r\"$t$\")\n",
    "ax.set_ylabel(r\"$W$\")\n",
    "for k in range(N_ens):\n",
    "    ax.plot(t, W_ens[k, :])\n",
    "    \n",
    "fig = plt.figure(2)\n",
    "ax = fig.gca()\n",
    "ax.set_xlabel(r\"$t$\")\n",
    "ax.set_ylabel(r\"standard deviation of $W$\")\n",
    "std_dev = np.sqrt(np.sum(W_ens**2, axis=0) / N_ens)\n",
    "ax.plot(t, np.sqrt(t), label=\"analytical\")\n",
    "ax.plot(t, std_dev, label=\"numerical\")\n",
    "ax.legend()"
   ]
  },
  {
   "cell_type": "markdown",
   "metadata": {},
   "source": [
    "# Stochastic Integrals\n",
    "\n",
    "We are going to approximate the stochastic integral $\\int_0^T{h(t)\\,\\mathrm{d}W(t)}$ by Riemann sums.\n",
    "Inside a stochastic differential equation, the term $h(t)\\,\\mathrm{d}W(t)$ may represent stochastic forcing with Gaussian noise of time-dependent amplitude $h(t)$.\n",
    "The representation of a stochastic integral by a Riemann sum is not unique.\n",
    "Unlike for ordinary differential equations, the representations are not equivalent as $\\delta t \\to 0$.\n",
    "\n",
    "## Itô Integral\n",
    "\n",
    "The Itô integral is defined as the left-hand sum:\n",
    "\\begin{equation}\n",
    "\\int_0^T{h(t)\\,\\mathrm{d}W(t)} = \\lim_{N \\to \\infty}{\\sum_{i=0}^{N-1}{h(t_i)\\left(W(t_{i+1}) - W(t_i)\\right)}}\n",
    "\\end{equation}\n",
    "\n",
    "For $h(t) = W(t)$, the Itô integral gives:\n",
    "\\begin{align}\n",
    "\\sum_{i=0}^{N-1}{W(t_i)\\left(W(t_{i+1}) - W(t_i)\\right)}\n",
    "&= \\frac{1}{2}\\sum_{i=0}^{N-1}\\left[W(t_{i+1})^2 - W(t_i)^2 - \\left(W(t_{i+1}) - W(t_i)\\right)^2\\right] \\\\\n",
    "&= \\frac{1}{2}\\sum_{i=0}^{N-1}\\left[W(t_{i+1})^2 - W(t_i)^2\\right] - \\frac{1}{2}\\sum_{i=0}^{N-1}\\left(W(t_{i+1}) - W(t_i)\\right)^2 \\\\\n",
    "&= \\frac{1}{2}\\left[W(T)^2 - W(0)^2\\right] - \\frac{1}{2}\\sum_{i=0}^{N-1}\\left(W(t_{i+1}) - W(t_i)\\right)^2\n",
    "\\end{align}\n",
    "\\begin{equation}\n",
    "\\lim_{N \\to \\infty}{\\sum_{i=0}^{N-1}{W(t_i)\\left(W(t_{i+1}) - W(t_i)\\right)}} = \\frac{1}{2}\\left[W(T)^2 - W(0)^2\\right] - \\frac{T}{2}\n",
    "\\end{equation}\n",
    "\n",
    "Example:"
   ]
  },
  {
   "cell_type": "code",
   "execution_count": null,
   "metadata": {
    "collapsed": true
   },
   "outputs": [],
   "source": [
    "ito = np.sum(W_ens[:, :-1] * dW_ens, axis=1)\n",
    "\n",
    "fig = plt.figure(3)\n",
    "ax = fig.gca()\n",
    "ax.set_title(\"Itô integral\")\n",
    "ax.set_xlabel(r\"$W(T)$\")\n",
    "ax.set_ylabel(r\"$\\int_0^T{W(t)\\,\\mathrm{d}W(t)}$\")\n",
    "ax.plot(np.sort(W_ens[:, -1]), 0.5 * np.sort(W_ens[:, -1])**2 - 0.5 * T, label=\"analytical\")\n",
    "ax.scatter(W_ens[:, -1], ito, label=\"numerical\")\n",
    "ax.legend()"
   ]
  },
  {
   "cell_type": "markdown",
   "metadata": {},
   "source": [
    "## Stratonovich Integral\n",
    "\n",
    "The Stratonovich integral is defined as the mid-point sum:\n",
    "\\begin{equation}\n",
    "\\int_0^T{h(t)\\,\\mathrm{d}W(t)} = \\lim_{N \\to \\infty}{\\sum_{i=0}^{N-1}{h\\left(\\frac{t_i + t_{i+1}}{2}\\right)\\left(W(t_{i+1}) - W(t_i)\\right)}}\n",
    "\\end{equation}\n",
    "\n",
    "The conditional probability distribution of $W\\left(\\frac{t_i + t_{i+1}}{2}\\right)$ given $W(t_i)$ and $W(t_{i+1})$ is given by\n",
    "\\begin{equation}\n",
    "W\\left(\\frac{t_i + t_{i+1}}{2}\\right) = \\frac{W(t_i) + W(t_{i+1})}{2} + \\Delta Z \\quad , \\quad \\Delta Z \\sim \\mathcal{N}\\left(0, \\frac{\\delta t}{4}\\right) \\quad .\n",
    "\\end{equation}\n",
    "For $h(t) = W(t)$, the Stratonovich integral gives:\n",
    "\\begin{align}\n",
    "\\sum_{i=0}^{N-1}{W\\left(\\frac{t_i + t_{i+1}}{2}\\right)\\left(W(t_{i+1}) - W(t_i)\\right)}\n",
    "&= \\sum_{i=0}^{N-1}{\\left[\\frac{W(t_i) + W(t_{i+1})}{2} + \\Delta Z\\right]\\left(W(t_{i+1}) - W(t_i)\\right)} \\\\\n",
    "&= \\frac{1}{2}\\sum_{i=0}^{N-1}\\left[W(t_{i+1})^2 - W(t_i)^2\\right] + \\Delta Z\\sum_{i=0}^{N-1}\\left(W(t_{i+1}) - W(t_i)\\right) \\\\\n",
    "&= \\frac{1}{2}\\left[W(T)^2 - W(0)^2\\right] + \\Delta Z\\left(W(T) - W(0)\\right)\n",
    "\\end{align}\n",
    "\\begin{equation}\n",
    "\\lim_{N \\to \\infty}{\\sum_{i=0}^{N-1}{W\\left(\\frac{t_i + t_{i+1}}{2}\\right)\\left(W(t_{i+1}) - W(t_i)\\right)}} = \\frac{1}{2}\\left[W(T)^2 - W(0)^2\\right]\n",
    "\\end{equation}\n",
    "\n",
    "Example:"
   ]
  },
  {
   "cell_type": "code",
   "execution_count": null,
   "metadata": {
    "collapsed": true
   },
   "outputs": [],
   "source": [
    "strat = np.sum(0.5 * (W_ens[:, :-1] + W_ens[:, 1:]) * dW_ens, axis=1) + random.normal(0, 0.25 * T / N, N_ens)\n",
    "\n",
    "fig = plt.figure(4)\n",
    "ax = fig.gca()\n",
    "ax.set_title(\"Stratonovich integral\")\n",
    "ax.set_xlabel(r\"$W(T)$\")\n",
    "ax.set_ylabel(r\"$\\int_0^T{W(t)\\,\\mathrm{d}W(t)}$\")\n",
    "ax.plot(np.sort(W_ens[:, -1]), 0.5 * np.sort(W_ens[:, -1])**2, label=\"analytical\")\n",
    "ax.scatter(W_ens[:, -1], strat, label=\"numerical\")\n",
    "ax.legend()"
   ]
  },
  {
   "cell_type": "markdown",
   "metadata": {
    "collapsed": true
   },
   "source": [
    "# The Euler-Maruyama Method"
   ]
  },
  {
   "cell_type": "markdown",
   "metadata": {},
   "source": [
    "# Strong and Weak Convergence of the Euler-Maruyama Method"
   ]
  },
  {
   "cell_type": "code",
   "execution_count": null,
   "metadata": {
    "collapsed": true
   },
   "outputs": [],
   "source": []
  }
 ],
 "metadata": {
  "kernelspec": {
   "display_name": "Python 3",
   "language": "python",
   "name": "python3"
  },
  "language_info": {
   "codemirror_mode": {
    "name": "ipython",
    "version": 3
   },
   "file_extension": ".py",
   "mimetype": "text/x-python",
   "name": "python",
   "nbconvert_exporter": "python",
   "pygments_lexer": "ipython3",
   "version": "3.5.2"
  }
 },
 "nbformat": 4,
 "nbformat_minor": 2
}
